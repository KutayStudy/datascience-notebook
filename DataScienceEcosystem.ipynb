{
 "cells": [
  {
   "cell_type": "markdown",
   "id": "4282632c-f973-437f-8fdc-6cbdeb21c2cd",
   "metadata": {},
   "source": [
    "#Data Science Tools and Ecosystem"
   ]
  },
  {
   "cell_type": "markdown",
   "id": "707a758f-99e4-4fcd-ab8f-b7e15058498f",
   "metadata": {},
   "source": [
    "In this notebook,Data Science Tools and Ecosystem are summarized."
   ]
  },
  {
   "cell_type": "markdown",
   "id": "fabc639c-1c6c-4e1a-9820-a40c7d7f90f5",
   "metadata": {},
   "source": [
    "Objectives: \n",
    "+ Organize the collecting data\n",
    "+ Transform the data in appropiate way \n",
    "+ Analyse the data\n",
    "+ Visualize the data\n",
    "+ Identify the pattern and find the conclusion"
   ]
  },
  {
   "cell_type": "markdown",
   "id": "d92b93fb-2a17-4ba3-8ee0-2972fe080b76",
   "metadata": {},
   "source": [
    "Some of the popular languages that Data Scientists use are:\n",
    "1. Python\n",
    "2. R\n",
    "3. SQL"
   ]
  },
  {
   "cell_type": "markdown",
   "id": "2478b3ed-a34b-45c6-bd6f-04295496ccba",
   "metadata": {},
   "source": [
    "Some of the commonly used libraries used by Data Scientists include:\n",
    "1. Pandas\n",
    "2. Numpy\n",
    "3. matplotlib"
   ]
  },
  {
   "cell_type": "markdown",
   "id": "f26c07b0-a15b-490d-aed5-eb0199bb29d0",
   "metadata": {},
   "source": [
    "|Data Science Tools|\n",
    "|------------------|\n",
    "|GitHub|\n",
    "|Kaggle|\n",
    "|Jupyter Notebook|"
   ]
  },
  {
   "cell_type": "markdown",
   "id": "be2e5ef6-cb2b-43f2-84f2-dfb445e11f25",
   "metadata": {},
   "source": [
    "### Below are a few examples of evaluating arithmetic expressions in Python"
   ]
  },
  {
   "cell_type": "code",
   "execution_count": 18,
   "id": "cede6a85-4345-45cd-9fb6-d3b8fa57b65d",
   "metadata": {},
   "outputs": [
    {
     "data": {
      "text/plain": [
       "17"
      ]
     },
     "execution_count": 18,
     "metadata": {},
     "output_type": "execute_result"
    }
   ],
   "source": [
    "#This is a simple arithmetic expression to mutiply then add integers\n",
    "(3*4)+5"
   ]
  },
  {
   "cell_type": "code",
   "execution_count": 28,
   "id": "9f5eb0e6-ee9f-4bfb-bee7-ccfa8b469670",
   "metadata": {},
   "outputs": [
    {
     "name": "stdout",
     "output_type": "stream",
     "text": [
      "3 hours and 20 minutes\n"
     ]
    }
   ],
   "source": [
    "#This will convert 200 minutes to hours by dividing by 60\n",
    "h = 200 // 60\n",
    "m = 200 % 60\n",
    "print(str(h) + \" hours and \" + str(m) + \" minutes\")"
   ]
  },
  {
   "cell_type": "markdown",
   "id": "6852c688-387f-4e6c-9780-91812505b62d",
   "metadata": {},
   "source": [
    "## Author\n",
    "Kutay Çalış"
   ]
  }
 ],
 "metadata": {
  "kernelspec": {
   "display_name": "Python 3 (ipykernel)",
   "language": "python",
   "name": "python3"
  },
  "language_info": {
   "codemirror_mode": {
    "name": "ipython",
    "version": 3
   },
   "file_extension": ".py",
   "mimetype": "text/x-python",
   "name": "python",
   "nbconvert_exporter": "python",
   "pygments_lexer": "ipython3",
   "version": "3.12.4"
  }
 },
 "nbformat": 4,
 "nbformat_minor": 5
}
